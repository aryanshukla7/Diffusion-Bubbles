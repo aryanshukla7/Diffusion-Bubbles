{
 "cells": [
  {
   "cell_type": "code",
   "execution_count": 1,
   "metadata": {},
   "outputs": [
    {
     "name": "stdout",
     "output_type": "stream",
     "text": [
      "Collecting numpy\n",
      "  Using cached numpy-2.2.4-cp312-cp312-manylinux_2_17_x86_64.manylinux2014_x86_64.whl.metadata (62 kB)\n",
      "Collecting Pillow\n",
      "  Using cached pillow-11.1.0-cp312-cp312-manylinux_2_28_x86_64.whl.metadata (9.1 kB)\n",
      "Collecting scipy\n",
      "  Using cached scipy-1.15.2-cp312-cp312-manylinux_2_17_x86_64.manylinux2014_x86_64.whl.metadata (61 kB)\n",
      "Collecting matplotlib\n",
      "  Using cached matplotlib-3.10.1-cp312-cp312-manylinux_2_17_x86_64.manylinux2014_x86_64.whl.metadata (11 kB)\n",
      "Collecting h5py\n",
      "  Downloading h5py-3.13.0-cp312-cp312-manylinux_2_17_x86_64.manylinux2014_x86_64.whl.metadata (2.5 kB)\n",
      "Collecting nibabel\n",
      "  Using cached nibabel-5.3.2-py3-none-any.whl.metadata (9.1 kB)\n",
      "Collecting tqdm\n",
      "  Using cached tqdm-4.67.1-py3-none-any.whl.metadata (57 kB)\n",
      "Collecting contourpy>=1.0.1 (from matplotlib)\n",
      "  Using cached contourpy-1.3.1-cp312-cp312-manylinux_2_17_x86_64.manylinux2014_x86_64.whl.metadata (5.4 kB)\n",
      "Collecting cycler>=0.10 (from matplotlib)\n",
      "  Using cached cycler-0.12.1-py3-none-any.whl.metadata (3.8 kB)\n",
      "Collecting fonttools>=4.22.0 (from matplotlib)\n",
      "  Using cached fonttools-4.56.0-cp312-cp312-manylinux_2_5_x86_64.manylinux1_x86_64.manylinux_2_17_x86_64.manylinux2014_x86_64.whl.metadata (101 kB)\n",
      "Collecting kiwisolver>=1.3.1 (from matplotlib)\n",
      "  Using cached kiwisolver-1.4.8-cp312-cp312-manylinux_2_17_x86_64.manylinux2014_x86_64.whl.metadata (6.2 kB)\n",
      "Requirement already satisfied: packaging>=20.0 in ./bsift/lib/python3.12/site-packages (from matplotlib) (24.2)\n",
      "Collecting pyparsing>=2.3.1 (from matplotlib)\n",
      "  Using cached pyparsing-3.2.1-py3-none-any.whl.metadata (5.0 kB)\n",
      "Requirement already satisfied: python-dateutil>=2.7 in ./bsift/lib/python3.12/site-packages (from matplotlib) (2.9.0.post0)\n",
      "Collecting typing-extensions>=4.6 (from nibabel)\n",
      "  Using cached typing_extensions-4.12.2-py3-none-any.whl.metadata (3.0 kB)\n",
      "Requirement already satisfied: six>=1.5 in ./bsift/lib/python3.12/site-packages (from python-dateutil>=2.7->matplotlib) (1.17.0)\n",
      "Using cached numpy-2.2.4-cp312-cp312-manylinux_2_17_x86_64.manylinux2014_x86_64.whl (16.1 MB)\n",
      "Using cached pillow-11.1.0-cp312-cp312-manylinux_2_28_x86_64.whl (4.5 MB)\n",
      "Using cached scipy-1.15.2-cp312-cp312-manylinux_2_17_x86_64.manylinux2014_x86_64.whl (37.3 MB)\n",
      "Using cached matplotlib-3.10.1-cp312-cp312-manylinux_2_17_x86_64.manylinux2014_x86_64.whl (8.6 MB)\n",
      "Downloading h5py-3.13.0-cp312-cp312-manylinux_2_17_x86_64.manylinux2014_x86_64.whl (4.9 MB)\n",
      "\u001b[2K   \u001b[38;2;114;156;31m━━━━━━━━━━━━━━━━━━━━━━━━━━━━━━━━━━━━━━━━\u001b[0m \u001b[32m4.9/4.9 MB\u001b[0m \u001b[31m2.2 MB/s\u001b[0m eta \u001b[36m0:00:00\u001b[0m MB/s\u001b[0m eta \u001b[36m0:00:01\u001b[0m:01\u001b[0m\n",
      "\u001b[?25hUsing cached nibabel-5.3.2-py3-none-any.whl (3.3 MB)\n",
      "Using cached tqdm-4.67.1-py3-none-any.whl (78 kB)\n",
      "Using cached contourpy-1.3.1-cp312-cp312-manylinux_2_17_x86_64.manylinux2014_x86_64.whl (323 kB)\n",
      "Using cached cycler-0.12.1-py3-none-any.whl (8.3 kB)\n",
      "Using cached fonttools-4.56.0-cp312-cp312-manylinux_2_5_x86_64.manylinux1_x86_64.manylinux_2_17_x86_64.manylinux2014_x86_64.whl (4.9 MB)\n",
      "Using cached kiwisolver-1.4.8-cp312-cp312-manylinux_2_17_x86_64.manylinux2014_x86_64.whl (1.5 MB)\n",
      "Using cached pyparsing-3.2.1-py3-none-any.whl (107 kB)\n",
      "Using cached typing_extensions-4.12.2-py3-none-any.whl (37 kB)\n",
      "Installing collected packages: typing-extensions, tqdm, pyparsing, Pillow, numpy, kiwisolver, fonttools, cycler, scipy, nibabel, h5py, contourpy, matplotlib\n",
      "Successfully installed Pillow-11.1.0 contourpy-1.3.1 cycler-0.12.1 fonttools-4.56.0 h5py-3.13.0 kiwisolver-1.4.8 matplotlib-3.10.1 nibabel-5.3.2 numpy-2.2.4 pyparsing-3.2.1 scipy-1.15.2 tqdm-4.67.1 typing-extensions-4.12.2\n",
      "\n",
      "\u001b[1m[\u001b[0m\u001b[34;49mnotice\u001b[0m\u001b[1;39;49m]\u001b[0m\u001b[39;49m A new release of pip is available: \u001b[0m\u001b[31;49m24.3.1\u001b[0m\u001b[39;49m -> \u001b[0m\u001b[32;49m25.0.1\u001b[0m\n",
      "\u001b[1m[\u001b[0m\u001b[34;49mnotice\u001b[0m\u001b[1;39;49m]\u001b[0m\u001b[39;49m To update, run: \u001b[0m\u001b[32;49mpip install --upgrade pip\u001b[0m\n",
      "Note: you may need to restart the kernel to use updated packages.\n"
     ]
    }
   ],
   "source": [
    "%pip install numpy Pillow scipy matplotlib h5py nibabel tqdm"
   ]
  },
  {
   "cell_type": "code",
   "execution_count": 2,
   "metadata": {},
   "outputs": [],
   "source": [
    "import os\n",
    "import numpy as np\n",
    "import nibabel as nib\n",
    "import matplotlib.pyplot as plt\n",
    "from PIL import Image\n",
    "import subprocess\n",
    "from concurrent.futures import ProcessPoolExecutor, as_completed\n",
    "from tqdm import tqdm\n",
    "import random"
   ]
  },
  {
   "cell_type": "code",
   "execution_count": 3,
   "metadata": {},
   "outputs": [],
   "source": [
    "DATA = \"data/Mouse/BNL_NHMFL_Ex-vivo/Atlas_C57_7_exvivo.nii\""
   ]
  },
  {
   "cell_type": "code",
   "execution_count": 5,
   "metadata": {},
   "outputs": [],
   "source": [
    "def load_mri(mri_filepath, normalize=False, standardize=False):\n",
    "    \"\"\"Load a 3D MRI scan from a .nii file and normalize/standardize.\"\"\"\n",
    "    # Load MRI using nibabel\n",
    "    img = nib.load(mri_filepath)\n",
    "    img_data = img.get_fdata()  # This returns a numpy array of shape (X, Y, Z)\n",
    "\n",
    "    if img_data.shape[-1] == 1:\n",
    "        img_data = img_data.squeeze(-1)\n",
    "    \n",
    "    # Normalize the data to [0, 1]\n",
    "    if normalize:\n",
    "        img_data -= np.min(img_data)\n",
    "        img_data /= np.max(img_data)\n",
    "    \n",
    "    # Standardize the data to have mean 0 and std 1\n",
    "    if standardize:\n",
    "        mean = np.mean(img_data)\n",
    "        std = np.std(img_data)\n",
    "        img_data = (img_data - mean) / (std + 1e-5)\n",
    "    \n",
    "    img_data = np.expand_dims(img_data, axis=-1)\n",
    "    \n",
    "    return img_data"
   ]
  },
  {
   "cell_type": "code",
   "execution_count": 6,
   "metadata": {},
   "outputs": [],
   "source": [
    "img = load_mri(DATA)"
   ]
  },
  {
   "cell_type": "code",
   "execution_count": 7,
   "metadata": {},
   "outputs": [
    {
     "data": {
      "text/plain": [
       "(numpy.memmap, (256, 256, 512, 1))"
      ]
     },
     "execution_count": 7,
     "metadata": {},
     "output_type": "execute_result"
    }
   ],
   "source": [
    "type(img), img.shape"
   ]
  },
  {
   "cell_type": "code",
   "execution_count": 8,
   "metadata": {},
   "outputs": [
    {
     "data": {
      "text/plain": [
       "<matplotlib.image.AxesImage at 0x7f029989f5c0>"
      ]
     },
     "execution_count": 8,
     "metadata": {},
     "output_type": "execute_result"
    },
    {
     "data": {
      "image/png": "[encoded data removed]",
      "text/plain": [
       "<Figure size 640x480 with 1 Axes>"
      ]
     },
     "metadata": {},
     "output_type": "display_data"
    }
   ],
   "source": [
    "plt.imshow(img[:,128,:, 0], cmap='gray')"
   ]
  },
  {
   "cell_type": "code",
   "execution_count": 9,
   "metadata": {},
   "outputs": [],
   "source": [
    "def process_single_file(file_name, input_data, output_keypoint_images):\n",
    "    \"\"\"\n",
    "    Processes a single .nii file by constructing the command and running it.\n",
    "    \"\"\"\n",
    "    input_file_path = os.path.join(input_data, file_name)\n",
    "    output_file_name = file_name.replace('.nii', '.key')\n",
    "    output_file_path = os.path.join(output_keypoint_images, output_file_name)\n",
    "    command = ['./featExtract.ubu', '-w', input_file_path, output_file_path]\n",
    "    \n",
    "    try:\n",
    "        result = subprocess.run(command, check=True, capture_output=True, text=True)\n",
    "        # print(f\"Successfully processed {file_name}\")\n",
    "    except subprocess.CalledProcessError as e:\n",
    "        print(f\"Error processing {file_name}: {e.stderr}\")\n",
    "\n",
    "def process_nii_files(input_data, output_keypoint_images):\n",
    "    \"\"\"\n",
    "    Processes all .nii files in the input folder in parallel and generates corresponding .key files in the output folder.\n",
    "    \"\"\"\n",
    "    # Create the output folder if it doesn't exist\n",
    "    if not os.path.exists(output_keypoint_images):\n",
    "        os.makedirs(output_keypoint_images)\n",
    "    \n",
    "    # Get the list of all .nii files in the input folder\n",
    "    nii_files = [file for file in os.listdir(input_data) if file.endswith('.nii')]\n",
    "    \n",
    "    # Use a ProcessPoolExecutor to process files in parallel\n",
    "    with ProcessPoolExecutor() as executor:\n",
    "        # Submit all files for processing\n",
    "        futures = {\n",
    "            executor.submit(process_single_file, file_name, input_data, output_keypoint_images): file_name\n",
    "            for file_name in nii_files\n",
    "        }\n",
    "        # Use tqdm to display progress as futures complete\n",
    "        for future in tqdm(as_completed(futures), total=len(futures), desc=\"Processing files\", unit=\"file\"):\n",
    "            try:\n",
    "                future.result()  # Raises exception if one occurred in process_single_file\n",
    "            except Exception as e:\n",
    "                print(f\"Error occurred: {e}\")\n"
   ]
  },
  {
   "cell_type": "code",
   "execution_count": 10,
   "metadata": {},
   "outputs": [
    {
     "name": "stderr",
     "output_type": "stream",
     "text": [
      "Processing files: 100%|██████████| 2/2 [01:20<00:00, 40.22s/file]\n"
     ]
    }
   ],
   "source": [
    "input_data = \"data/Macaque\"\n",
    "output_keypoint_images = \"data/Macaque/keyFiles\"  # Change if you want to save in a different folder\n",
    "process_nii_files(input_data, output_keypoint_images)"
   ]
  },
  {
   "cell_type": "code",
   "execution_count": 12,
   "metadata": {},
   "outputs": [
    {
     "name": "stderr",
     "output_type": "stream",
     "text": [
      "2025-04-28 13:33:31,217 - WARNING - Duplicate positions found in /home/aryanshukla/Desktop/Experiments/brainSIFT/data/Macaque/keyFiles/mri_rb.key:               X          Y          Z     Scale       o11       o12       o13  \\\n",
      "0     36.159275  14.659267  12.844195  0.618748 -0.851466  0.211090 -0.480048   \n",
      "1     36.159275  14.659267  12.844195  0.618748  0.852248 -0.407694  0.327809   \n",
      "2     35.445946  13.845456  14.345050  0.595950 -0.211480  0.741921 -0.636262   \n",
      "3     35.445946  13.845456  14.345050  0.595950 -0.196263 -0.545855  0.814569   \n",
      "4     35.445946  13.845456  14.345050  0.595950 -0.196263 -0.545855  0.814569   \n",
      "...         ...        ...        ...       ...       ...       ...       ...   \n",
      "2850  24.206377  22.427460  47.625584  3.076865  0.084152 -0.596864 -0.797917   \n",
      "2851  24.206377  22.427460  47.625584  3.076865  0.084152 -0.596864 -0.797917   \n",
      "2852  24.206377  22.427460  47.625584  3.076865  0.084152 -0.596864 -0.797917   \n",
      "2853  26.870520  36.341282  48.720959  3.640152 -0.989352  0.052212 -0.135859   \n",
      "2854  26.870520  36.341282  48.720959  3.640152 -0.411923 -0.397906 -0.819750   \n",
      "\n",
      "           o21       o22       o23       o31       o32       o33        e1  \\\n",
      "0     0.302656 -0.549755 -0.778568 -0.428257 -0.808214  0.404211  0.221367   \n",
      "1    -0.027164  0.591287  0.806003 -0.522432 -0.695819  0.492849  0.221367   \n",
      "2    -0.131483  0.623473  0.770710 -0.968498 -0.246647  0.034302  0.184785   \n",
      "3     0.220964  0.784738  0.579104 -0.955330  0.293647 -0.033401  0.184785   \n",
      "4     0.813136  0.373655  0.446309 -0.547988  0.749949  0.370520  0.184785   \n",
      "...        ...       ...       ...       ...       ...       ...       ...   \n",
      "2850 -0.106270  0.790815 -0.602759  0.990770  0.135518  0.003120  0.425516   \n",
      "2851 -0.812864  0.422035 -0.401422  0.576343  0.682378 -0.449654  0.425516   \n",
      "2852  0.646092  0.642305 -0.412322  0.758606 -0.480830  0.439680  0.425516   \n",
      "2853 -0.109587  0.347069  0.931415  0.095783  0.936386 -0.337651  0.216904   \n",
      "2854  0.896161 -0.014038 -0.443506  0.164966 -0.917319  0.362371  0.216904   \n",
      "\n",
      "            e2        e3  InfoFlag  \n",
      "0     0.083252  0.032458         0  \n",
      "1     0.083252  0.032458        32  \n",
      "2     0.100429  0.043527         0  \n",
      "3     0.100429  0.043527        32  \n",
      "4     0.100429  0.043527        32  \n",
      "...        ...       ...       ...  \n",
      "2850  0.218803  0.118701        48  \n",
      "2851  0.218803  0.118701        48  \n",
      "2852  0.218803  0.118701        48  \n",
      "2853  0.144002  0.068872         0  \n",
      "2854  0.144002  0.068872        32  \n",
      "\n",
      "[2854 rows x 17 columns]\n"
     ]
    },
    {
     "name": "stdout",
     "output_type": "stream",
     "text": [
      "Number of positive features: 413\n",
      "Number of negative features: 414\n",
      "Number of positive features: 413\n",
      "Number of negative features: 414\n",
      "Number of positive features: 0\n",
      "Number of negative features: 0\n"
     ]
    },
    {
     "name": "stderr",
     "output_type": "stream",
     "text": [
      "2025-04-28 13:34:02,309 - WARNING - Duplicate positions found in /home/aryanshukla/Desktop/Experiments/brainSIFT/data/Macaque/keyFiles/macaque_25_model-MNI.key:              X          Y          Z     Scale       o11       o12       o13  \\\n",
      "0    -7.414948  16.729168 -19.695988  1.115810 -0.864565  0.257775  0.431370   \n",
      "1    -7.414948  16.729168 -19.695988  1.115810  0.863672  0.339207 -0.372840   \n",
      "2    -7.414948  16.729168 -19.695988  1.115810  0.436402  0.630015  0.642366   \n",
      "3    -0.418034  13.785713 -19.593750  1.083080 -0.920286  0.390657 -0.021470   \n",
      "4    -0.418034  13.785713 -19.593750  1.083080  0.796317  0.042305  0.603399   \n",
      "...        ...        ...        ...       ...       ...       ...       ...   \n",
      "2906 -0.152174  11.910713   3.853724  4.823173 -0.999941  0.008294  0.007025   \n",
      "2907 -0.152174  11.910713   3.853724  4.823173  0.866677  0.221162  0.447166   \n",
      "2908 -0.152174  11.910713   3.853724  4.823173  0.866677  0.221162  0.447166   \n",
      "2909 -0.152174  11.910713   3.853724  4.823173  0.866677  0.221162  0.447166   \n",
      "2910 -0.152174  11.910713   3.853724  4.823173  0.866677  0.221162  0.447166   \n",
      "\n",
      "           o21       o22       o23       o31       o32       o33        e1  \\\n",
      "0    -0.500906 -0.373284 -0.780866 -0.040264 -0.891185  0.451850  0.231443   \n",
      "1     0.145209  0.540886  0.828467  0.482686 -0.769663  0.417892  0.231443   \n",
      "2     0.810129  0.035484 -0.585176 -0.391463  0.775772 -0.494909  0.231443   \n",
      "3    -0.101460 -0.185295  0.977431 -0.377862 -0.901694 -0.210161  0.210868   \n",
      "4    -0.604649  0.083208  0.792134 -0.016697 -0.995634  0.091840  0.210868   \n",
      "...        ...       ...       ...       ...       ...       ...       ...   \n",
      "2906  0.001835 -0.508210  0.861231 -0.010714 -0.861193 -0.508165  0.337824   \n",
      "2907 -0.498766  0.365952  0.785691  0.010124 -0.903972  0.427471  0.337824   \n",
      "2908 -0.420456  0.806249  0.416148 -0.268491 -0.548680  0.791747  0.337824   \n",
      "2909  0.498179 -0.336536 -0.799100 -0.026243  0.915331 -0.401847  0.337824   \n",
      "2910 -0.238806 -0.603063  0.761109  0.437998 -0.766422 -0.469846  0.337824   \n",
      "\n",
      "            e2        e3  InfoFlag  \n",
      "0     0.089508  0.013713         0  \n",
      "1     0.089508  0.013713        32  \n",
      "2     0.089508  0.013713        32  \n",
      "3     0.103469  0.038062         0  \n",
      "4     0.103469  0.038062        32  \n",
      "...        ...       ...       ...  \n",
      "2906  0.144098  0.070115         0  \n",
      "2907  0.144098  0.070115        32  \n",
      "2908  0.144098  0.070115        32  \n",
      "2909  0.144098  0.070115        32  \n",
      "2910  0.144098  0.070115        32  \n",
      "\n",
      "[2907 rows x 17 columns]\n"
     ]
    },
    {
     "name": "stdout",
     "output_type": "stream",
     "text": [
      "Negative volume: 3863.177\n",
      "Number of positive features: 472\n",
      "Number of negative features: 367\n",
      "Number of positive features: 472\n",
      "Number of negative features: 367\n",
      "Number of positive features: 0\n",
      "Number of negative features: 0\n"
     ]
    },
    {
     "name": "stderr",
     "output_type": "stream",
     "text": [
      "2025-04-28 13:34:33,887 - INFO - Volume summary written to /home/aryanshukla/Desktop/Experiments/brainSIFT/data/Macaque/volume_summary.csv\n"
     ]
    },
    {
     "name": "stdout",
     "output_type": "stream",
     "text": [
      "Negative volume: 9251.139\n"
     ]
    }
   ],
   "source": [
    "import key2vtk\n",
    "\n",
    "key2vtk.run_processing(\n",
    "    base_path=\"~/Desktop/Experiments/brainSIFT/data/Macaque\",\n",
    "    key_subdir=\"keyFiles\",\n",
    "    vtk_subdir=\"vtk\"\n",
    ")"
   ]
  },
  {
   "cell_type": "code",
   "execution_count": 16,
   "metadata": {},
   "outputs": [
    {
     "name": "stdout",
     "output_type": "stream",
     "text": [
      "Affine matrix:\n",
      " [[0.1 0.  0.  0.1]\n",
      " [0.  0.1 0.  0.1]\n",
      " [0.  0.  0.1 0.1]\n",
      " [0.  0.  0.  1. ]]\n",
      "Voxel dimensions (spacing): (np.float32(0.1), np.float32(0.1), np.float32(0.1))\n",
      "Image shape: (192, 96, 256)\n"
     ]
    }
   ],
   "source": [
    "# Load the NIfTI file\n",
    "nii_path = \"data/Mouse/BNL_NHMFL_In-vivo/Atlas_A72_invivo.nii\"\n",
    "img = nib.load(nii_path)\n",
    "\n",
    "# Get header information\n",
    "header = img.header\n",
    "affine = img.affine\n",
    "voxel_dims = header.get_zooms()  # voxel spacing along each axis\n",
    "\n",
    "print(\"Affine matrix:\\n\", affine)\n",
    "print(\"Voxel dimensions (spacing):\", voxel_dims)\n",
    "print(\"Image shape:\", img.shape)\n"
   ]
  }
 ],
 "metadata": {
  "kernelspec": {
   "display_name": "exps",
   "language": "python",
   "name": "python3"
  },
  "language_info": {
   "codemirror_mode": {
    "name": "ipython",
    "version": 3
   },
   "file_extension": ".py",
   "mimetype": "text/x-python",
   "name": "python",
   "nbconvert_exporter": "python",
   "pygments_lexer": "ipython3",
   "version": "3.12.9"
  }
 },
 "nbformat": 4,
 "nbformat_minor": 2
}
